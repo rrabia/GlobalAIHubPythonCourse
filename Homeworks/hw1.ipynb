{
 "cells": [
  {
   "cell_type": "code",
   "execution_count": 1,
   "metadata": {},
   "outputs": [
    {
     "name": "stdout",
     "output_type": "stream",
     "text": [
      "[[83, 37, 13], [89, 89, 89], [11, 59, 3]]\n"
     ]
    }
   ],
   "source": [
    "import random as rnd\n",
    "x=[]\n",
    "y=[[0,0,0],[0,0,0],[0,0,0]]\n",
    "def asalBul(sayi):\n",
    "    asal=1\n",
    "    if(sayi>1):\n",
    "        for i in range(2,sayi):\n",
    "            if(sayi%i==0):\n",
    "                asal=0\n",
    "                break\n",
    "    else:\n",
    "        asal=0\n",
    "    return asal\n",
    "\n",
    "while len(x)<9:\n",
    "    eleman=rnd.randint(1,100)\n",
    "    if asalBul(eleman)==1:\n",
    "        x.append(eleman)\n",
    "ind=0\n",
    "for i in range(3):\n",
    "        for j in range(3):\n",
    "            y[i][j]=x[ind]\n",
    "            ind+=1\n",
    "\n",
    "print(y)"
   ]
  },
  {
   "cell_type": "code",
   "execution_count": null,
   "metadata": {},
   "outputs": [],
   "source": []
  },
  {
   "cell_type": "code",
   "execution_count": null,
   "metadata": {},
   "outputs": [],
   "source": []
  }
 ],
 "metadata": {
  "kernelspec": {
   "display_name": "Python 3",
   "language": "python",
   "name": "python3"
  },
  "language_info": {
   "codemirror_mode": {
    "name": "ipython",
    "version": 3
   },
   "file_extension": ".py",
   "mimetype": "text/x-python",
   "name": "python",
   "nbconvert_exporter": "python",
   "pygments_lexer": "ipython3",
   "version": "3.8.5"
  }
 },
 "nbformat": 4,
 "nbformat_minor": 4
}
