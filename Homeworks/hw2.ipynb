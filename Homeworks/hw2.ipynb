{
 "cells": [
  {
   "cell_type": "code",
   "execution_count": null,
   "metadata": {},
   "outputs": [],
   "source": [
    "gradeList=[[0,0,0],[0,0,0],[0,0,0],[0,0,0],[0,0,0]]\n",
    "nameList=[[0,0],[0,0],[0,0],[0,0],[0,0]]\n",
    "infoDic={}\n",
    "for i in range(5):\n",
    "    name=input(\"isim :\")\n",
    "    surname=input(\"soyad :\")\n",
    "    nameList[i][0]=name\n",
    "    nameList[i][1]=surname\n",
    "    mid=int(input(\"midterm :\"))\n",
    "    final=int(input(\"final :\"))\n",
    "    hw=int(input(\"homework :\"))\n",
    "    gradeList[i][0]=mid\n",
    "    gradeList[i][1]=final\n",
    "    gradeList[i][2]=hw\n",
    " \n",
    " for i in range(5):\n",
    "    infoDic[nameList[i][0]]=(gradeList[i][0]+gradeList[i][1]+gradeList[i][2])/3\n",
    "\n",
    "for k,v in infoDic.items():\n",
    "  if max(infoDic.values())==v:\n",
    "    print(\"Tebrikler\",k)"
   ]
  }
 ],
 "metadata": {
  "kernelspec": {
   "display_name": "Python 3",
   "language": "python",
   "name": "python3"
  },
  "language_info": {
   "codemirror_mode": {
    "name": "ipython",
    "version": 3
   },
   "file_extension": ".py",
   "mimetype": "text/x-python",
   "name": "python",
   "nbconvert_exporter": "python",
   "pygments_lexer": "ipython3",
   "version": "3.8.5"
  }
 },
 "nbformat": 4,
 "nbformat_minor": 4
}
