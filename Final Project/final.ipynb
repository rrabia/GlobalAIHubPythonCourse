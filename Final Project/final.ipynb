{
 "cells": [
  {
   "cell_type": "code",
   "execution_count": 36,
   "metadata": {},
   "outputs": [],
   "source": [
    "class Yemek():\n",
    "    def __init__(self,isim):\n",
    "        self.isim=isim\n",
    "    def pişir(self):\n",
    "        print('Pişir')\n",
    "        \n",
    "class Kofte(Yemek):\n",
    "    def __init__(self,isim):\n",
    "        super().__init__(isim)\n",
    "    def malzeme(self):\n",
    "        print('kıyma ekle')\n",
    "       "
   ]
  },
  {
   "cell_type": "code",
   "execution_count": 41,
   "metadata": {},
   "outputs": [
    {
     "name": "stdout",
     "output_type": "stream",
     "text": [
      "Pişir\n",
      "kıyma ekle\n"
     ]
    }
   ],
   "source": [
    "deneme=Kofte(\"kf\")\n",
    "deneme.pişir()\n",
    "deneme.malzeme()"
   ]
  }
 ],
 "metadata": {
  "kernelspec": {
   "display_name": "Python 3",
   "language": "python",
   "name": "python3"
  },
  "language_info": {
   "codemirror_mode": {
    "name": "ipython",
    "version": 3
   },
   "file_extension": ".py",
   "mimetype": "text/x-python",
   "name": "python",
   "nbconvert_exporter": "python",
   "pygments_lexer": "ipython3",
   "version": "3.8.5"
  }
 },
 "nbformat": 4,
 "nbformat_minor": 4
}
